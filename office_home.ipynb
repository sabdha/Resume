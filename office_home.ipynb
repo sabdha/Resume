{
  "nbformat": 4,
  "nbformat_minor": 0,
  "metadata": {
    "colab": {
      "name": "office-home.ipynb",
      "provenance": [],
      "mount_file_id": "1IxXqVsUGI5tyA7j9BqBdn-8YBnjJRsqF",
      "authorship_tag": "ABX9TyPiVmiIC26AFYv0msNrndU5",
      "include_colab_link": true
    },
    "kernelspec": {
      "name": "python3",
      "display_name": "Python 3"
    },
    "language_info": {
      "name": "python"
    }
  },
  "cells": [
    {
      "cell_type": "markdown",
      "metadata": {
        "id": "view-in-github",
        "colab_type": "text"
      },
      "source": [
        "<a href=\"https://colab.research.google.com/github/sabdha/Resume/blob/main/office_home.ipynb\" target=\"_parent\"><img src=\"https://colab.research.google.com/assets/colab-badge.svg\" alt=\"Open In Colab\"/></a>"
      ]
    },
    {
      "cell_type": "code",
      "execution_count": 2,
      "metadata": {
        "id": "vIODNACEp8af"
      },
      "outputs": [],
      "source": [
        "from IPython.display import clear_output\n",
        "!pip3 install hub\n",
        "clear_output()"
      ]
    },
    {
      "cell_type": "code",
      "source": [
        "# IMPORTANT - Please restart your Colab runtime after installing Hub!\n",
        "# This is a Colab-specific issue that prevents PIL from working properly.\n",
        "import os\n",
        "os.kill(os.getpid(), 9)"
      ],
      "metadata": {
        "id": "RQTH1vAvuk2d"
      },
      "execution_count": null,
      "outputs": []
    },
    {
      "cell_type": "code",
      "source": [
        "!unzip '/content/OfficeHomeDataset_10072016.zip'"
      ],
      "metadata": {
        "colab": {
          "base_uri": "https://localhost:8080/"
        },
        "id": "DP9WOmVjBFkv",
        "outputId": "24555e8d-b183-45ed-a8c7-185740fdcdc1"
      },
      "execution_count": null,
      "outputs": [
        {
          "output_type": "stream",
          "name": "stdout",
          "text": [
            "Archive:  /content/OfficeHomeDataset_10072016.zip\n",
            "  End-of-central-directory signature not found.  Either this file is not\n",
            "  a zipfile, or it constitutes one disk of a multi-part archive.  In the\n",
            "  latter case the central directory and zipfile comment will be found on\n",
            "  the last disk(s) of this archive.\n",
            "unzip:  cannot find zipfile directory in one of /content/OfficeHomeDataset_10072016.zip or\n",
            "        /content/OfficeHomeDataset_10072016.zip.zip, and cannot find /content/OfficeHomeDataset_10072016.zip.ZIP, period.\n"
          ]
        }
      ]
    },
    {
      "cell_type": "code",
      "source": [
        "!activeloop login -u dhanyaomdena -p sabari123"
      ],
      "metadata": {
        "id": "LhhlZJASupIp",
        "colab": {
          "base_uri": "https://localhost:8080/"
        },
        "outputId": "614d0b67-0f42-4660-e266-1f92dc0b30fe"
      },
      "execution_count": 4,
      "outputs": [
        {
          "output_type": "stream",
          "name": "stdout",
          "text": [
            "Successfully logged in to Activeloop.\n"
          ]
        }
      ]
    },
    {
      "cell_type": "code",
      "source": [
        "import hub\n",
        "!activeloop reporting --off"
      ],
      "metadata": {
        "id": "ge9OixTHaqPL"
      },
      "execution_count": 6,
      "outputs": []
    },
    {
      "cell_type": "code",
      "source": [
        "cd /content/"
      ],
      "metadata": {
        "id": "WgoSJ9NAbkFn",
        "colab": {
          "base_uri": "https://localhost:8080/"
        },
        "outputId": "7d6a6f50-4935-4981-ec0f-c7f58e2858f2"
      },
      "execution_count": 7,
      "outputs": [
        {
          "output_type": "stream",
          "name": "stdout",
          "text": [
            "/content\n"
          ]
        }
      ]
    },
    {
      "cell_type": "code",
      "source": [
        "\n",
        "from PIL import Image, ImageDraw\n",
        "import numpy as np\n",
        "import os\n",
        "ds = hub.empty('hub://activeloop/office-home-dataset') # Create the dataset"
      ],
      "metadata": {
        "id": "N6z1mb_WuxxX",
        "colab": {
          "base_uri": "https://localhost:8080/"
        },
        "outputId": "bed4d319-e2a7-4ea7-982f-424b7a707122"
      },
      "execution_count": 19,
      "outputs": [
        {
          "output_type": "stream",
          "name": "stdout",
          "text": [
            "Your Hub dataset has been successfully created!\n",
            "The dataset is private so make sure you are logged in!\n"
          ]
        }
      ]
    },
    {
      "cell_type": "code",
      "source": [
        "domain_classes = os.listdir('/content/drive/MyDrive/OfficeHomeDataset_10072016/OfficeHomeDataset_10072016') \n",
        "objects_classes = os.listdir('/content/drive/MyDrive/OfficeHomeDataset_10072016/OfficeHomeDataset_10072016/Art')"
      ],
      "metadata": {
        "id": "S9g6LUNIL1Mv"
      },
      "execution_count": 14,
      "outputs": []
    },
    {
      "cell_type": "code",
      "source": [
        "with ds:\n",
        "    ds.create_tensor('images', htype='image', sample_compression = 'jpeg')\n",
        "    ds.create_tensor('domain_classes', htype='class_label', class_names = domain_classes)\n",
        "    ds.create_tensor('objects_classes', htype = 'class_label', class_names = objects_classes)"
      ],
      "metadata": {
        "id": "kzXPqDx-vFrb"
      },
      "execution_count": 20,
      "outputs": []
    },
    {
      "cell_type": "code",
      "source": [
        "img = []\n",
        "obj_img = []\n",
        "domain_img = []\n",
        "root_path = '/content/drive/MyDrive/OfficeHomeDataset_10072016/OfficeHomeDataset_10072016/' \n",
        "for domain in domain_classes:\n",
        "  if domain not in ['ImageInfo.csv', 'imagelist.txt']:\n",
        "    for object_img in objects_classes:\n",
        "      for image in os.listdir(os.path.join('/content/drive/MyDrive/OfficeHomeDataset_10072016/OfficeHomeDataset_10072016/', domain+'/'+object_img+'/')):\n",
        "        img.append(os.path.join(root_path+domain+'/'+object_img+'/', image))\n",
        "        obj_img.append(object_img)\n",
        "        domain_img.append(domain)"
      ],
      "metadata": {
        "id": "9vWaxOAxTdVF"
      },
      "execution_count": 16,
      "outputs": []
    },
    {
      "cell_type": "code",
      "source": [
        "print(objects_classes)"
      ],
      "metadata": {
        "colab": {
          "base_uri": "https://localhost:8080/"
        },
        "id": "GdVC7fuEpJTS",
        "outputId": "b3e11a8a-ac0a-497e-a971-0dc91ef32c42"
      },
      "execution_count": 27,
      "outputs": [
        {
          "output_type": "stream",
          "name": "stdout",
          "text": [
            "['Alarm_Clock', 'Backpack', 'Batteries', 'Bed', 'Bike', 'Calendar', 'Candles', 'Chair', 'Clipboards', 'Computer', 'Couch', 'Curtains', 'Desk_Lamp', 'Drill', 'Bottle', 'Bucket', 'Calculator', 'Eraser', 'Flipflops', 'Flowers', 'Folder', 'Fork', 'Glasses', 'Hammer', 'Helmet', 'Kettle', 'Keyboard', 'Exit_Sign', 'Fan', 'File_Cabinet', 'Knives', 'Marker', 'Monitor', 'Mop', 'Mouse', 'Mug', 'Notebook', 'Oven', 'Pan', 'Paper_Clip', 'Lamp_Shade', 'Laptop', 'Pen', 'Push_Pin', 'Radio', 'Refrigerator', 'Ruler', 'Scissors', 'Screwdriver', 'Shelf', 'Sink', 'Sneakers', 'Pencil', 'Postit_Notes', 'Printer', 'Soda', 'Telephone', 'ToothBrush', 'Toys', 'Trash_Can', 'TV', 'Webcam', 'Speaker', 'Spoon', 'Table']\n"
          ]
        }
      ]
    },
    {
      "cell_type": "code",
      "source": [
        "with ds:\n",
        "  i=0\n",
        "  for image in img:\n",
        "    obj_img_class = objects_classes.index(obj_img[i])\n",
        "    domain_img_class = domain_classes.index(domain_img[i])\n",
        "    ds.images.append(hub.read(image))\n",
        "    ds.domain_classes.append(np.uint32(obj_img_class))\n",
        "    ds.objects_classes.append(np.uint32(domain_img_class))\n",
        "    i+=1"
      ],
      "metadata": {
        "id": "qe2H1vTuUsTu"
      },
      "execution_count": 21,
      "outputs": []
    },
    {
      "cell_type": "code",
      "source": [
        "hub.load('hub://activeloop/office-home-dataset')"
      ],
      "metadata": {
        "colab": {
          "base_uri": "https://localhost:8080/"
        },
        "id": "o56N7-fFfPQJ",
        "outputId": "4d924e25-c306-412a-e4ff-988be9181319"
      },
      "execution_count": 22,
      "outputs": [
        {
          "output_type": "stream",
          "name": "stdout",
          "text": [
            "hub://activeloop/office-home-dataset loaded successfully.\n"
          ]
        },
        {
          "output_type": "execute_result",
          "data": {
            "text/plain": [
              "Dataset(path='hub://activeloop/office-home-dataset', tensors=['images', 'domain_classes', 'objects_classes'])"
            ]
          },
          "metadata": {},
          "execution_count": 22
        }
      ]
    }
  ]
}