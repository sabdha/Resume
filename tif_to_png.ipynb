{
  "nbformat": 4,
  "nbformat_minor": 0,
  "metadata": {
    "colab": {
      "name": "tif_to_png.ipynb",
      "provenance": [],
      "authorship_tag": "ABX9TyNOOtqNlqRLnmUfVRu03mHB",
      "include_colab_link": true
    },
    "kernelspec": {
      "name": "python3",
      "display_name": "Python 3"
    },
    "language_info": {
      "name": "python"
    }
  },
  "cells": [
    {
      "cell_type": "markdown",
      "metadata": {
        "id": "view-in-github",
        "colab_type": "text"
      },
      "source": [
        "<a href=\"https://colab.research.google.com/github/sabdha/Resume/blob/main/tif_to_png.ipynb\" target=\"_parent\"><img src=\"https://colab.research.google.com/assets/colab-badge.svg\" alt=\"Open In Colab\"/></a>"
      ]
    },
    {
      "cell_type": "code",
      "execution_count": null,
      "metadata": {
        "id": "5LROitVk2Iod"
      },
      "outputs": [],
      "source": [
        "import tifffile as tfl\n",
        "import numpy as np\n",
        "import matplotlib.pyplot as plt\n",
        "import os\n",
        "#import tensorflow as tf\n",
        "import cv2 as cv2\n",
        "import PIL\n",
        "from PIL import Image, ImageOps"
      ]
    },
    {
      "cell_type": "code",
      "source": [
        "#tile_size = 512\n",
        "tile_size = 768\n",
        "# read image file\n",
        "images = os.listdir(r'C:\\Users\\dhany\\Downloads\\drive-download-20220607T061408Z-001')\n"
      ],
      "metadata": {
        "id": "7hZCs7cB2MZJ"
      },
      "execution_count": null,
      "outputs": []
    },
    {
      "cell_type": "code",
      "source": [
        "images"
      ],
      "metadata": {
        "id": "yaCH2hVn2YDG"
      },
      "execution_count": null,
      "outputs": []
    },
    {
      "cell_type": "code",
      "source": [
        "\n",
        "for img in images:\n",
        "    imgname = img.split('.')[0]\n",
        "    image_filepath = r\"C:\\Users\\dhany\\Downloads\\drive-download-20220607T061408Z-001\" + '\\\\'+img\n",
        "    #image_dir = f'{image_filepath}'\n",
        "    image = Image.open(image_filepath)\n",
        "    image.save(r\"C:\\Users\\dhany\\Downloads\\Super_duper_pylons_stations\\Pylons_new3_Jodhpur\"+\"\\\\\"+imgname+'.png')"
      ],
      "metadata": {
        "id": "87To_Qv72O7t"
      },
      "execution_count": null,
      "outputs": []
    }
  ]
}